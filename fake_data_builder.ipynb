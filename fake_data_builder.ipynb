{
 "cells": [
  {
   "cell_type": "code",
   "execution_count": 1,
   "id": "459fcd9b",
   "metadata": {},
   "outputs": [],
   "source": [
    "import numpy as np\n",
    "import pandas as pd\n",
    "import random\n",
    "import scipy.stats as sps\n",
    "import matplotlib.pyplot as plt\n",
    "\n",
    "random.seed(45)  "
   ]
  },
  {
   "cell_type": "markdown",
   "id": "50edfa34",
   "metadata": {},
   "source": [
    "Creating ID Feature with 800 samples, and then randomly shuffling the data points"
   ]
  },
  {
   "cell_type": "code",
   "execution_count": 2,
   "id": "ccc476df",
   "metadata": {},
   "outputs": [],
   "source": [
    "n=800\n",
    "id_feature=list(\"ID\"+str(i+100) for i in range(1,n+1))\n",
    "random.shuffle(id_feature)"
   ]
  },
  {
   "cell_type": "markdown",
   "id": "043da04a",
   "metadata": {},
   "source": [
    "Creating Groups A, B and C and then shuffling them"
   ]
  },
  {
   "cell_type": "code",
   "execution_count": 3,
   "id": "023954f7",
   "metadata": {},
   "outputs": [],
   "source": [
    "groups = np.repeat(['A', 'B', 'C'], repeats=[267, 267, 266])\n",
    "random.shuffle(groups)"
   ]
  },
  {
   "cell_type": "markdown",
   "id": "4360d8bc",
   "metadata": {},
   "source": [
    "Creating Feature_1 which is sampled randomly from a normal distribution with mean 2500 and std = 300."
   ]
  },
  {
   "cell_type": "code",
   "execution_count": 4,
   "id": "9b7c5477",
   "metadata": {},
   "outputs": [
    {
     "data": {
      "text/plain": [
       "2500.5449781190478"
      ]
     },
     "execution_count": 4,
     "metadata": {},
     "output_type": "execute_result"
    }
   ],
   "source": [
    "mean = 2500\n",
    "std = 300\n",
    "feature_1 = sps.norm.rvs(mean, std, size=n)\n",
    "feature_1.mean()"
   ]
  },
  {
   "cell_type": "markdown",
   "id": "199599de",
   "metadata": {},
   "source": [
    "Creating Feature_2 which is sampled randomly from a normal distribution with mean 400 and standard\n",
    "deviation 15."
   ]
  },
  {
   "cell_type": "code",
   "execution_count": 5,
   "id": "163d4f09",
   "metadata": {},
   "outputs": [
    {
     "data": {
      "text/plain": [
       "398.16752239840747"
      ]
     },
     "execution_count": 5,
     "metadata": {},
     "output_type": "execute_result"
    }
   ],
   "source": [
    "mean_2 = 400\n",
    "std_2 = 15\n",
    "feature_2 = sps.norm.rvs(mean_2, std_2, size=n)\n",
    "feature_2.mean()"
   ]
  },
  {
   "cell_type": "markdown",
   "id": "b6334d57",
   "metadata": {},
   "source": [
    "Creating a DataFrame with the ID, Group, Feature_1, Feature_2 Columns"
   ]
  },
  {
   "cell_type": "code",
   "execution_count": 6,
   "id": "519cebaa",
   "metadata": {},
   "outputs": [
    {
     "data": {
      "text/plain": [
       "B    267\n",
       "A    267\n",
       "C    266\n",
       "Name: Group, dtype: int64"
      ]
     },
     "execution_count": 6,
     "metadata": {},
     "output_type": "execute_result"
    }
   ],
   "source": [
    "data = pd.DataFrame({\"ID\":id_feature,\"Group\":groups,\"Feature_1\":feature_1,\"Feature_2\":feature_2})\n",
    "data['Group'].value_counts()"
   ]
  },
  {
   "cell_type": "markdown",
   "id": "d8928341",
   "metadata": {},
   "source": [
    "Creating Feature_3 using Group Feature_1 and Feature_2 based on the given rules."
   ]
  },
  {
   "cell_type": "code",
   "execution_count": 7,
   "id": "7404d0cd",
   "metadata": {},
   "outputs": [],
   "source": [
    "data['Feature_3'] = np.nan\n",
    "\n",
    "\n",
    "data.loc[data['Group'] == 'A', 'Feature_3'] = 3 * data['Feature_1'] - 5 * data['Feature_2']\n",
    "data.loc[data['Group'] == 'B', 'Feature_3'] = 2 * data['Feature_1']\n",
    "data.loc[data['Group'] == 'C', 'Feature_3'] = -data['Feature_1'] + data['Feature_2']\n",
    "\n"
   ]
  },
  {
   "cell_type": "markdown",
   "id": "c335c0cc",
   "metadata": {},
   "source": [
    "Adding Additional Component which is sampled from a normal distribution wiht mean 0 and standard seviation 12. "
   ]
  },
  {
   "cell_type": "code",
   "execution_count": 8,
   "id": "9882cb2b",
   "metadata": {},
   "outputs": [],
   "source": [
    "mean_3 = 0\n",
    "std_3 = 12\n",
    "additional_component = sps.norm.rvs(mean, std, size=n)\n",
    "data['Feature_3'] += additional_component\n"
   ]
  },
  {
   "cell_type": "code",
   "execution_count": 9,
   "id": "f22a2d60",
   "metadata": {},
   "outputs": [
    {
     "data": {
      "text/html": [
       "<div>\n",
       "<style scoped>\n",
       "    .dataframe tbody tr th:only-of-type {\n",
       "        vertical-align: middle;\n",
       "    }\n",
       "\n",
       "    .dataframe tbody tr th {\n",
       "        vertical-align: top;\n",
       "    }\n",
       "\n",
       "    .dataframe thead th {\n",
       "        text-align: right;\n",
       "    }\n",
       "</style>\n",
       "<table border=\"1\" class=\"dataframe\">\n",
       "  <thead>\n",
       "    <tr style=\"text-align: right;\">\n",
       "      <th></th>\n",
       "      <th>ID</th>\n",
       "      <th>Group</th>\n",
       "      <th>Feature_1</th>\n",
       "      <th>Feature_2</th>\n",
       "      <th>Feature_3</th>\n",
       "    </tr>\n",
       "  </thead>\n",
       "  <tbody>\n",
       "    <tr>\n",
       "      <th>0</th>\n",
       "      <td>ID763</td>\n",
       "      <td>C</td>\n",
       "      <td>2391.263347</td>\n",
       "      <td>380.682391</td>\n",
       "      <td>908.671402</td>\n",
       "    </tr>\n",
       "    <tr>\n",
       "      <th>1</th>\n",
       "      <td>ID204</td>\n",
       "      <td>C</td>\n",
       "      <td>2499.467961</td>\n",
       "      <td>404.700182</td>\n",
       "      <td>348.445689</td>\n",
       "    </tr>\n",
       "    <tr>\n",
       "      <th>2</th>\n",
       "      <td>ID734</td>\n",
       "      <td>C</td>\n",
       "      <td>2843.881843</td>\n",
       "      <td>412.049217</td>\n",
       "      <td>-76.825461</td>\n",
       "    </tr>\n",
       "    <tr>\n",
       "      <th>3</th>\n",
       "      <td>ID422</td>\n",
       "      <td>B</td>\n",
       "      <td>2751.208037</td>\n",
       "      <td>424.392713</td>\n",
       "      <td>7830.306242</td>\n",
       "    </tr>\n",
       "    <tr>\n",
       "      <th>4</th>\n",
       "      <td>ID559</td>\n",
       "      <td>C</td>\n",
       "      <td>2439.267885</td>\n",
       "      <td>395.285438</td>\n",
       "      <td>852.501745</td>\n",
       "    </tr>\n",
       "  </tbody>\n",
       "</table>\n",
       "</div>"
      ],
      "text/plain": [
       "      ID Group    Feature_1   Feature_2    Feature_3\n",
       "0  ID763     C  2391.263347  380.682391   908.671402\n",
       "1  ID204     C  2499.467961  404.700182   348.445689\n",
       "2  ID734     C  2843.881843  412.049217   -76.825461\n",
       "3  ID422     B  2751.208037  424.392713  7830.306242\n",
       "4  ID559     C  2439.267885  395.285438   852.501745"
      ]
     },
     "execution_count": 9,
     "metadata": {},
     "output_type": "execute_result"
    }
   ],
   "source": [
    "data.head()"
   ]
  },
  {
   "cell_type": "markdown",
   "id": "4cf66a6f",
   "metadata": {},
   "source": [
    "Samples greater than 3000 based on theoretical distribution"
   ]
  },
  {
   "cell_type": "code",
   "execution_count": 10,
   "id": "9e13bd4c",
   "metadata": {},
   "outputs": [
    {
     "name": "stdout",
     "output_type": "stream",
     "text": [
      "Number of samples greater than 3000: 38\n"
     ]
    }
   ],
   "source": [
    "from scipy.stats import norm\n",
    "\n",
    "mean_4 = 2500\n",
    "std_dev = 300\n",
    "\n",
    "# Z-score for 3000\n",
    "z = (3000 - mean_4) / std_dev\n",
    "\n",
    "above_3000 = 1 - norm.cdf(z)\n",
    "\n",
    "# Estimate the number of samples greater than 3000\n",
    "samples_above_3000 = round( n * above_3000)\n",
    "\n",
    "print(\"Number of samples greater than 3000:\", samples_above_3000)\n"
   ]
  },
  {
   "cell_type": "markdown",
   "id": "2dd16c0a",
   "metadata": {},
   "source": [
    "Samples which are greater than 3000"
   ]
  },
  {
   "cell_type": "code",
   "execution_count": 11,
   "id": "673784eb",
   "metadata": {},
   "outputs": [
    {
     "data": {
      "text/plain": [
       "32"
      ]
     },
     "execution_count": 11,
     "metadata": {},
     "output_type": "execute_result"
    }
   ],
   "source": [
    "sum(data['Feature_1']>3000)"
   ]
  },
  {
   "cell_type": "markdown",
   "id": "aefb1124",
   "metadata": {},
   "source": [
    "Mean and standard deviation of Feature_3 within each group"
   ]
  },
  {
   "cell_type": "code",
   "execution_count": 12,
   "id": "a31b6982",
   "metadata": {},
   "outputs": [
    {
     "name": "stdout",
     "output_type": "stream",
     "text": [
      "              mean         std\n",
      "Group                         \n",
      "A      8065.358965  889.759005\n",
      "B      7455.883812  672.991879\n",
      "C       412.617369  432.402788\n"
     ]
    }
   ],
   "source": [
    "groupdata = data.groupby('Group')['Feature_3'].agg(['mean', 'std'])\n",
    "\n",
    "print(groupdata)"
   ]
  },
  {
   "cell_type": "markdown",
   "id": "4041ff03",
   "metadata": {},
   "source": [
    "Scatterplot of Feature_3 vs Feature_1"
   ]
  },
  {
   "cell_type": "code",
   "execution_count": 13,
   "id": "5274668f",
   "metadata": {},
   "outputs": [
    {
     "data": {
      "image/png": "[encoded data removed]",
      "text/plain": [
       "<Figure size 640x480 with 1 Axes>"
      ]
     },
     "metadata": {},
     "output_type": "display_data"
    }
   ],
   "source": [
    "plt.scatter(data['Feature_1'], data['Feature_3'])\n",
    "plt.xlabel('Feature_1')\n",
    "plt.ylabel('Feature_3')\n",
    "plt.title('Scatterplot of Feature_3 vs Feature_1')\n",
    "plt.show()"
   ]
  },
  {
   "cell_type": "markdown",
   "id": "13c5b4b5",
   "metadata": {},
   "source": [
    "Dumping the data frame into data.csv file."
   ]
  },
  {
   "cell_type": "code",
   "execution_count": 14,
   "id": "1e700d20",
   "metadata": {},
   "outputs": [],
   "source": [
    "data.to_csv('data.csv', index=False)"
   ]
  }
 ],
 "metadata": {
  "kernelspec": {
   "display_name": "Python 3 (ipykernel)",
   "language": "python",
   "name": "python3"
  },
  "language_info": {
   "codemirror_mode": {
    "name": "ipython",
    "version": 3
   },
   "file_extension": ".py",
   "mimetype": "text/x-python",
   "name": "python",
   "nbconvert_exporter": "python",
   "pygments_lexer": "ipython3",
   "version": "3.11.4"
  }
 },
 "nbformat": 4,
 "nbformat_minor": 5
}
